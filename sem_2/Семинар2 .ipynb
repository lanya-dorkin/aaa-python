{
 "cells": [
  {
   "cell_type": "markdown",
   "metadata": {},
   "source": [
    "# Задания\n"
   ]
  },
  {
   "attachments": {},
   "cell_type": "markdown",
   "metadata": {},
   "source": [
    "### Задание1\n",
    "\n",
    "Развернуть исходный список.\n",
    "\n",
    "**Вход**: произвольный список.  \n",
    "**Выход**: список, в котором элементы расположены в обратном порядке.\n",
    "\n",
    "**Ограничения и требования**:\n",
    "\n",
    "- не использовать слайсы\n",
    "- проверять, что на вход подаётся список\n",
    "\n",
    "**Примеры**:\n",
    "\n",
    "```\n",
    "reverse_list('qwert')     -> ошибка\n",
    "reverse_list(111111)      -> ошибка\n",
    "reverse_list(['apple', 'orange', 'plum']) -> ['plum', 'orange', 'apple']\n",
    "```\n"
   ]
  },
  {
   "cell_type": "code",
   "execution_count": 13,
   "metadata": {},
   "outputs": [
    {
     "data": {
      "text/plain": [
       "['plum', 'orange', 'apple']"
      ]
     },
     "execution_count": 13,
     "metadata": {},
     "output_type": "execute_result"
    }
   ],
   "source": [
    "def reverse_list(some_list: list) -> list:\n",
    "    if not isinstance(some_list, list):\n",
    "        raise TypeError\n",
    "\n",
    "    reverse = []\n",
    "    for i in range(len(some_list) - 1, -1, -1):\n",
    "        reverse.append(some_list[i])\n",
    "\n",
    "    return reverse\n",
    "\n",
    "\n",
    "reverse_list([\"apple\", \"orange\", \"plum\"])"
   ]
  },
  {
   "attachments": {},
   "cell_type": "markdown",
   "metadata": {},
   "source": [
    "### Задание2\n",
    "\n",
    "Убрать дубликаты в исходном объекте.\n",
    "\n",
    "**Вход**: любая последовательность: строка, список, кортеж и т.д.  \n",
    "**Выход**: тот же объект, но в котором каждый элемент повторяется ровно 1 раз.\n",
    "\n",
    "**Ограничения и требования**:\n",
    "\n",
    "- не использовать set\n",
    "\n",
    "**Примеры**:\n",
    "\n",
    "```\n",
    "drop_dups(11111)    -> ошибка\n",
    "drop_dups('qqqaaaweraaatyy')   -> ['q', 'a', 'w', 'e', 'r', 't', 'y']\n",
    "drop_dups(('one', 'two', 'one', 'two', 'three'))  -> ['one', 'two', 'three']\n",
    "```\n"
   ]
  },
  {
   "cell_type": "code",
   "execution_count": 23,
   "metadata": {},
   "outputs": [
    {
     "data": {
      "text/plain": [
       "['a', 'g']"
      ]
     },
     "execution_count": 23,
     "metadata": {},
     "output_type": "execute_result"
    }
   ],
   "source": [
    "from typing import Iterable\n",
    "\n",
    "\n",
    "def drop_dups(sequence):\n",
    "    if not isinstance(sequence, Iterable):\n",
    "        raise TypeError\n",
    "    d, sequence_unq = {}, []\n",
    "    for i in sequence:\n",
    "        if not i in d:\n",
    "            sequence_unq.append(i)\n",
    "            d[i] = 1\n",
    "    return sequence_unq\n",
    "\n",
    "\n",
    "drop_dups(\"agag\")"
   ]
  },
  {
   "attachments": {},
   "cell_type": "markdown",
   "metadata": {},
   "source": [
    "### Задание3\n",
    "\n",
    "Подсчитать кол-во элементов, которые встречаются более 1 раза в исходном объекте.\n",
    "\n",
    "**Вход**: произвольный итерабельный объект.  \n",
    "**Выход**: кол-во элементов, которые встречаются чаще одного раза.\n",
    "\n",
    "**Ограничения и требования**: нет\n",
    "\n",
    "**Примеры**:\n",
    "\n",
    "```\n",
    "count_nonunique('qwweertty') -> 3\n",
    "count_nonunique(('one', 'two', 'one', 'three')) -> 1\n",
    "```\n"
   ]
  },
  {
   "cell_type": "code",
   "execution_count": 28,
   "metadata": {},
   "outputs": [
    {
     "data": {
      "text/plain": [
       "1"
      ]
     },
     "execution_count": 28,
     "metadata": {},
     "output_type": "execute_result"
    }
   ],
   "source": [
    "def count_nonunique(obj: Iterable) -> int:\n",
    "    d = {}\n",
    "    for i in obj:\n",
    "        d[i] = d.get(i, 0) + 1\n",
    "\n",
    "    return sum(map(lambda x: 1 if x > 1 else 0, d.values()))\n",
    "\n",
    "\n",
    "count_nonunique((\"one\", \"two\", \"one\", \"three\"))"
   ]
  },
  {
   "attachments": {},
   "cell_type": "markdown",
   "metadata": {},
   "source": [
    "### Задание4\n",
    "\n",
    "Разбить исходное число на разряды.\n",
    "\n",
    "**Вход**: произвольное целое неотрицательное число.  \n",
    "**Выход**: список целых чисел-разрядов.\n",
    "\n",
    "**Ограничения и требования**:\n",
    "\n",
    "- не использовать функцию str\n",
    "- проверять тип и значение входных данных\n",
    "\n",
    "**Примеры**:\n",
    "\n",
    "```\n",
    "split_to_digits(-420)     -> ошибка\n",
    "split_to_digits(8.7)      -> ошибка\n",
    "split_to_digits('qwerty') -> ошибка\n",
    "split_to_digits(589)      -> [5, 8, 9]\n",
    "```\n"
   ]
  },
  {
   "cell_type": "code",
   "execution_count": 34,
   "metadata": {},
   "outputs": [
    {
     "data": {
      "text/plain": [
       "[1, 4, 8, 8]"
      ]
     },
     "execution_count": 34,
     "metadata": {},
     "output_type": "execute_result"
    }
   ],
   "source": [
    "def split_to_digits(num: int) -> list:\n",
    "    if not isinstance(num, int):\n",
    "        raise TypeError\n",
    "    if num < 0:\n",
    "        raise ValueError\n",
    "\n",
    "    ans = []\n",
    "    while num > 0:\n",
    "        ans.append(num % 10)\n",
    "        num //= 10\n",
    "\n",
    "    return ans[::-1]\n",
    "\n",
    "\n",
    "split_to_digits(589)"
   ]
  },
  {
   "attachments": {},
   "cell_type": "markdown",
   "metadata": {},
   "source": [
    "### Задание5\n",
    "\n",
    "Подсчитать кол-во чётных и нечётных цифр исходного числа.\n",
    "\n",
    "**Вход**: произвольное целое неотрицательное число.  \n",
    "**Выход**: словарь вида:\n",
    "\n",
    "```\n",
    "{\n",
    "    'odds': <кол-во нечётных разрядов>,\n",
    "    'evens': <кол-во чётных разрядов>\n",
    "}\n",
    "```\n",
    "\n",
    "**Ограничения и требования**:\n",
    "\n",
    "- не использовать фунцию str\n",
    "- проверять тип и значение входных данных, выдавать ошибку, если они неверны\n",
    "\n",
    "**Примеры**:\n",
    "\n",
    "```\n",
    "count_odds_evens(-701)   -> ошибка\n",
    "count_odds_evens(592271)  -> {'odds': 4, 'evens': 2}\n",
    "```\n"
   ]
  },
  {
   "cell_type": "code",
   "execution_count": 45,
   "metadata": {},
   "outputs": [],
   "source": [
    "# TODO"
   ]
  },
  {
   "attachments": {},
   "cell_type": "markdown",
   "metadata": {},
   "source": [
    "### Задание6\n",
    "\n",
    "Найти разницу множеств.\n",
    "\n",
    "**Вход**: Два произвольных итерабельных объекта: строки, списки, кортежи.  \n",
    "**Выход**: Список, который содержит объекты первого, которых нет во втором.\n",
    "\n",
    "**Ограничения и требования**:\n",
    "\n",
    "- сохранить порядок элементов\n",
    "- если какой-либо элемент повторяется в первом списке, то во втором он должен быть столько же раз\n",
    "\n",
    "**Примеры**:\n",
    "\n",
    "```\n",
    "subtract_lists('qwerty', 'defxyz')  -> ['q', 'w', 'r', 't']\n",
    "subtract_lists(\n",
    "    ('one', 'two', 'three),\n",
    "    ('two', 'five', 'seven')\n",
    ")  -> ('one', 'three')\n",
    "```\n"
   ]
  },
  {
   "cell_type": "code",
   "execution_count": 44,
   "metadata": {},
   "outputs": [
    {
     "data": {
      "text/plain": [
       "['one', 'three', 'two']"
      ]
     },
     "execution_count": 44,
     "metadata": {},
     "output_type": "execute_result"
    }
   ],
   "source": [
    "def subtract_lists(a: Iterable, b: Iterable) -> list:\n",
    "    d = {}\n",
    "    for i in b:\n",
    "        d[i] = d.get(i, 0) + 1\n",
    "\n",
    "    diff = []\n",
    "    for i in a:\n",
    "        if d.get(i, 0) > 0:\n",
    "            d[i] -= 1\n",
    "        else:\n",
    "            diff.append(i)\n",
    "\n",
    "    return diff\n",
    "\n",
    "\n",
    "subtract_lists((\"one\", \"two\", \"three\", \"two\"), (\"two\", \"five\", \"seven\"))"
   ]
  },
  {
   "cell_type": "markdown",
   "metadata": {},
   "source": [
    "# Перерыв\n"
   ]
  },
  {
   "attachments": {},
   "cell_type": "markdown",
   "metadata": {},
   "source": [
    "### Задание7\n",
    "\n",
    "Вывести, какие точки заданы некорректно с сообщением-ошибкой.\n",
    "\n",
    "**Вход**: произвольное кол-во пар координат, заданных через параметры (args).  \n",
    "**Выход**: список вида:\n",
    "\n",
    "```\n",
    "[\n",
    "    {'lat': <>, 'lng': <>, 'error': ''},\n",
    "    {'lat': <>, 'lng': <>, 'error': ''},\n",
    "]\n",
    "```\n",
    "\n",
    "**Ограничения и требования**: нет\n",
    "\n",
    "**Примеры**:\n",
    "\n",
    "```\n",
    "validate_coords(\n",
    "    (0.0, 1.0),\n",
    "    (-35.7, -100.7),\n",
    "    (-95.0, 120.5),\n",
    "    (88.8, 190.5),\n",
    "    (17.33, 18.46),\n",
    "    (-120.0, -200.1),\n",
    ")\n",
    "->\n",
    "[\n",
    "    {\n",
    "        'lat': -95.0,\n",
    "        'lng': 120.5,\n",
    "        'error': 'Неверно задана широта: -95.0 (должна быть от -90.0 до 90.0)'\n",
    "    },\n",
    "    {\n",
    "        'lat': 88.8,\n",
    "        'lng': 190.5,\n",
    "        'error': 'Неверно задана долгота: 190.5 (должна быть от -180.0 до 180.0)'\n",
    "    },\n",
    "    {\n",
    "        'lat': -120.0,\n",
    "        'lng': -200.1,\n",
    "        'error': 'Неверно задана широта: -120.0 (должна быть от -90.0 до 90.0); Неверно задана долгота: -200.1 (должна быть от -180.0 до 180.0)'\n",
    "    },\n",
    "]\n",
    "```\n"
   ]
  },
  {
   "cell_type": "code",
   "execution_count": 57,
   "metadata": {},
   "outputs": [
    {
     "data": {
      "text/plain": [
       "[{'lat': -95.0,\n",
       "  'lng': 120.5,\n",
       "  'err': 'Неверно задана широта: -95.0 (должна быть от -90.0 до 90.0)'},\n",
       " {'lat': 88.8,\n",
       "  'lng': 190.5,\n",
       "  'err': 'Неверно задана долгота: 190.5 (должна быть от -180.0 до 180.0)'},\n",
       " {'lat': -120.0,\n",
       "  'lng': -200.1,\n",
       "  'err': 'Неверно задана широта: -120.0 (должна быть от -90.0 до 90.0)'}]"
      ]
     },
     "execution_count": 57,
     "metadata": {},
     "output_type": "execute_result"
    }
   ],
   "source": [
    "def validate_coords(*coords):\n",
    "    template = \"Неверно задана {dimension}: {value} (должна быть от {lower} до {upper})\"\n",
    "    result = []\n",
    "    for x, y in coords:\n",
    "        err = []\n",
    "        if x > 90.0 or x < -90.0:\n",
    "            err.append(\n",
    "                template.format(dimension=\"широта\", value=x, lower=-90.0, upper=90.0)\n",
    "            )\n",
    "        elif y > 180.0 or y < -180.0:\n",
    "            err.append(\n",
    "                template.format(dimension=\"долгота\", value=y, lower=-180.0, upper=180.0)\n",
    "            )\n",
    "        else:\n",
    "            continue\n",
    "        result.append({\"lat\": x, \"lng\": y, \"err\": \"; \".join(err)})\n",
    "    return result\n",
    "\n",
    "\n",
    "validate_coords(\n",
    "    (0.0, 1.0),\n",
    "    (-35.7, -100.7),\n",
    "    (-95.0, 120.5),\n",
    "    (88.8, 190.5),\n",
    "    (17.33, 18.46),\n",
    "    (-120.0, -200.1),\n",
    ")"
   ]
  },
  {
   "attachments": {},
   "cell_type": "markdown",
   "metadata": {},
   "source": [
    "### Задание8\n",
    "\n",
    "Подсчитать, сколько раз каждое слово встречается в тексте.\n",
    "\n",
    "**Вход**: Строка.  \n",
    "**Выход**: словарь вида:\n",
    "\n",
    "```\n",
    "{\n",
    "    'слово 1': <кол-во>,\n",
    "    'слово 2': <кол-во>,\n",
    "}\n",
    "```\n",
    "\n",
    "**Ограничения и требования**:\n",
    "\n",
    "- не использовать Counter\n",
    "- регистр не учитывается, т.е. \"Слово\" и \"сЛоВо\" считаются одним и тем же\n",
    "- проверять входные данные на корректность\n",
    "\n",
    "**Примеры**:\n",
    "\n",
    "```\n",
    "count_words('')  -> ошибка\n",
    "count_words('one plus TWO equals four and four plus FOUR equals eight')\n",
    "    -> {\n",
    "        'one': 1,\n",
    "        'two': 1,\n",
    "        'and': 1,\n",
    "        'eight': 1,\n",
    "        'plus': 2,\n",
    "        'equals': 2,\n",
    "        'four': 3\n",
    "        }\n",
    "```\n"
   ]
  },
  {
   "cell_type": "code",
   "execution_count": 50,
   "metadata": {},
   "outputs": [
    {
     "data": {
      "text/plain": [
       "{'some': 2, 'text': 1}"
      ]
     },
     "execution_count": 50,
     "metadata": {},
     "output_type": "execute_result"
    }
   ],
   "source": [
    "def count_words(text: str) -> dict:\n",
    "    if not isinstance(text, str):\n",
    "        raise TypeError\n",
    "    if not text:\n",
    "        raise ValueError\n",
    "\n",
    "    d = {}\n",
    "    for word in text.lower().split():\n",
    "        d[word] = d.get(word, 0) + 1\n",
    "\n",
    "    return d\n",
    "\n",
    "\n",
    "count_words(\"some some text\")"
   ]
  },
  {
   "attachments": {},
   "cell_type": "markdown",
   "metadata": {},
   "source": [
    "### Задание9\n",
    "\n",
    "Найти неверную закрывающую скобку.\n",
    "\n",
    "**Вход**: строка, в которое есть пары скобок (различных).  \n",
    "**Выход**: -1, если ошибок нет, иначе позиция первой неверной закрывающей скобки.\n",
    "\n",
    "**Ограничения и требования**: нет\n",
    "\n",
    "**Примеры**:\n",
    "\n",
    "```\n",
    "check_braces('Hi (my [name is [ Slam]] ) Shady')  -> -1\n",
    "check_braces('Hi(( my name[is Slam)]) Shady')     -> 21\n",
    "```\n"
   ]
  },
  {
   "cell_type": "code",
   "execution_count": 59,
   "metadata": {},
   "outputs": [
    {
     "data": {
      "text/plain": [
       "21"
      ]
     },
     "execution_count": 59,
     "metadata": {},
     "output_type": "execute_result"
    }
   ],
   "source": [
    "def check_braces(seq: str) -> int:\n",
    "    mapping = {\"{\": \"}\", \"(\": \")\", \"[\": \"]\"}\n",
    "    stack = []\n",
    "    for i in range(len(seq)):\n",
    "        if seq[i] in mapping:\n",
    "            stack.append(seq[i])\n",
    "        elif seq[i] in mapping.values():\n",
    "            if mapping[stack.pop()] != seq[i]:\n",
    "                return i + 1\n",
    "    return -1\n",
    "\n",
    "\n",
    "check_braces(\"Hi(( my name[is Slam)]) Shady\")"
   ]
  },
  {
   "attachments": {},
   "cell_type": "markdown",
   "metadata": {},
   "source": [
    "### Задание10\n",
    "\n",
    "Написать генератор паролей.\n",
    "\n",
    "**Вход**: параметры генерации пароля:\n",
    "\n",
    "- strength (по умолчанию 1) - стойкость:\n",
    "  - 0 - только цифры\n",
    "  - 1 - цифры и буквы нижнего регистра\n",
    "  - 2 - цифры и буквы в разных регистрах\n",
    "  - 3 и более - цифры, буквы в разных регистрах, различные символы\n",
    "- length (опционально) - длина пароля. Если не задана, то генерируется случайным образом от 4 до 16.\n",
    "- from_source (опционально) - строка, из символов которой будет сгенерирован пароль. Если задана, то игнорируем параметр strength\n",
    "\n",
    "**Выход**: последовательность символов, представляющая пароль.\n",
    "\n",
    "**Ограничения и требования**: нет\n",
    "\n",
    "**Примеры**:\n",
    "\n",
    "```\n",
    "generate_password(strength=0, length=4)  -> 4902\n",
    "generate_password(strength=2)            -> U85xYa19\n",
    "generate_password(from_source='qwerty12345', length=5)  -> 1q2tt5\n",
    "generate_password(strength=3, length=5, from_source='qwerty123456')  -> 6ywt76\n",
    "```\n"
   ]
  },
  {
   "cell_type": "code",
   "execution_count": 77,
   "metadata": {},
   "outputs": [],
   "source": [
    "import string\n",
    "import random"
   ]
  },
  {
   "cell_type": "code",
   "execution_count": 82,
   "metadata": {},
   "outputs": [
    {
     "data": {
      "text/plain": [
       "'1924'"
      ]
     },
     "execution_count": 82,
     "metadata": {},
     "output_type": "execute_result"
    }
   ],
   "source": [
    "def generate_password(strength: int = 1, length: int = None, from_source: str = None):\n",
    "    if from_source:\n",
    "        source = from_source\n",
    "    else:\n",
    "        source = []\n",
    "        if strength >= 0:\n",
    "            source += list(map(str, range(0, 10)))\n",
    "        if strength >= 1:\n",
    "            source += list(string.ascii_lowercase)\n",
    "        if strength >= 2:\n",
    "            source += list(string.ascii_uppercase)\n",
    "        if strength >= 3:\n",
    "            source += list(\"!@#$%^&*()_+=-=\")\n",
    "\n",
    "    if not length:\n",
    "        length = random.randint(4, 16)\n",
    "\n",
    "    password = [random.choice(source) for _ in range(length)]\n",
    "    return \"\".join(password)\n",
    "\n",
    "\n",
    "generate_password(0, 4)"
   ]
  },
  {
   "cell_type": "code",
   "execution_count": null,
   "metadata": {},
   "outputs": [],
   "source": []
  },
  {
   "cell_type": "code",
   "execution_count": 74,
   "metadata": {},
   "outputs": [
    {
     "data": {
      "text/plain": [
       "2"
      ]
     },
     "execution_count": 74,
     "metadata": {},
     "output_type": "execute_result"
    }
   ],
   "source": [
    "def profit(prices: list) -> int:\n",
    "    max_diff, curr_min = 0, prices[0]\n",
    "    for price in prices[1:]:\n",
    "        max_diff = max(max_diff, price - curr_min)\n",
    "        curr_min = min(curr_min, price)\n",
    "    return max_diff\n",
    "\n",
    "\n",
    "profit([1, 3, 2, 0, 1])"
   ]
  },
  {
   "cell_type": "code",
   "execution_count": 90,
   "metadata": {},
   "outputs": [
    {
     "data": {
      "text/plain": [
       "1"
      ]
     },
     "execution_count": 90,
     "metadata": {},
     "output_type": "execute_result"
    }
   ],
   "source": [
    "def profit(prices: list) -> int:\n",
    "    profit = 0\n",
    "    prev = prices[0]\n",
    "    for price in prices[1:]:\n",
    "        if price > prev:\n",
    "            profit += price - prev\n",
    "        prev = price\n",
    "    return profit\n",
    "\n",
    "\n",
    "profit([100, 3, 4])"
   ]
  },
  {
   "cell_type": "code",
   "execution_count": null,
   "metadata": {},
   "outputs": [],
   "source": []
  },
  {
   "cell_type": "markdown",
   "metadata": {},
   "source": [
    "# Выводы\n"
   ]
  },
  {
   "cell_type": "markdown",
   "metadata": {},
   "source": [
    "## Что запомнили\n",
    "\n",
    "## Что хочется изучить подробнее\n"
   ]
  },
  {
   "cell_type": "markdown",
   "metadata": {},
   "source": [
    "# Вопросы\n"
   ]
  }
 ],
 "metadata": {
  "kernelspec": {
   "display_name": "Python 3",
   "language": "python",
   "name": "python3"
  },
  "language_info": {
   "codemirror_mode": {
    "name": "ipython",
    "version": 3
   },
   "file_extension": ".py",
   "mimetype": "text/x-python",
   "name": "python",
   "nbconvert_exporter": "python",
   "pygments_lexer": "ipython3",
   "version": "3.11.3"
  },
  "vscode": {
   "interpreter": {
    "hash": "31f2aee4e71d21fbe5cf8b01ff0e069b9275f58929596ceb00d14d90e3e16cd6"
   }
  }
 },
 "nbformat": 4,
 "nbformat_minor": 2
}
